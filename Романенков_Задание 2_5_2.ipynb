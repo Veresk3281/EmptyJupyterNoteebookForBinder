{
 "cells": [
  {
   "cell_type": "code",
   "execution_count": 8,
   "metadata": {},
   "outputs": [
    {
     "name": "stdout",
     "output_type": "stream",
     "text": [
      "Summa =  35\n",
      "Raznost =  -15\n",
      "Proizvedenie =  250\n",
      "4asnoe =  0.4\n",
      "Itog =  4.918032786885246\n"
     ]
    }
   ],
   "source": [
    "import this\n",
    "\n",
    "x = 10\n",
    "y = 25\n",
    "\n",
    "print(\"Summa = \", x+y)\n",
    "print(\"Raznost = \", x-y)\n",
    "print(\"Proizvedenie = \", x*y) \n",
    "print(\"4asnoe = \", x/y)\n",
    "\n",
    "print(\"Itog = \", (( x**2 + y )*( y - 1 )) / ( x - y + y**2 ) )"
   ]
  },
  {
   "cell_type": "code",
   "execution_count": null,
   "metadata": {},
   "outputs": [],
   "source": []
  }
 ],
 "metadata": {
  "kernelspec": {
   "display_name": "Python 3 (ipykernel)",
   "language": "python",
   "name": "python3"
  },
  "language_info": {
   "codemirror_mode": {
    "name": "ipython",
    "version": 3
   },
   "file_extension": ".py",
   "mimetype": "text/x-python",
   "name": "python",
   "nbconvert_exporter": "python",
   "pygments_lexer": "ipython3",
   "version": "3.7.10"
  }
 },
 "nbformat": 4,
 "nbformat_minor": 4
}
